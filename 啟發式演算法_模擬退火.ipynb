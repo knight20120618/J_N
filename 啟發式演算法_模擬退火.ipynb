{
 "cells": [
  {
   "cell_type": "code",
   "execution_count": null,
   "metadata": {},
   "outputs": [],
   "source": [
    "import numpy as np\n",
    "import random\n",
    "import math\n",
    "\n",
    "def sa(x, first_temp, cooling_rate):\n",
    "    old = np.zeros(x)\n",
    "    new = np.zeros(x)\n",
    "    z = 0 # 計算次數\n",
    "    temp = first_temp # 初始溫度\n",
    "    \n",
    "    while new.sum() != x and temp > 1e-3:\n",
    "        y = random.randint(0, len(new) - 1)\n",
    "        new[y] = 1\n",
    "        \n",
    "        delta = new.sum() - old.sum()\n",
    "        if delta > 0 or random.random() < math.exp(delta / temp):\n",
    "            old = new\n",
    "            print('{} => {}'.format(old, old.sum()))\n",
    "\n",
    "        temp *= cooling_rate # 冷卻速率\n",
    "        z += 1\n",
    "    \n",
    "    print('共進行了 {} 次迭代'.format(z))\n",
    "\n",
    "# 幾個值、初始溫度、冷卻速率\n",
    "sa(10, 100, 0.99)"
   ]
  }
 ],
 "metadata": {
  "kernelspec": {
   "display_name": "Python 3",
   "language": "python",
   "name": "python3"
  },
  "language_info": {
   "codemirror_mode": {
    "name": "ipython",
    "version": 3
   },
   "file_extension": ".py",
   "mimetype": "text/x-python",
   "name": "python",
   "nbconvert_exporter": "python",
   "pygments_lexer": "ipython3",
   "version": "3.10.16"
  }
 },
 "nbformat": 4,
 "nbformat_minor": 2
}
