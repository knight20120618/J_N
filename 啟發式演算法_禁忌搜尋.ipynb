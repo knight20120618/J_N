{
 "cells": [
  {
   "cell_type": "code",
   "execution_count": null,
   "metadata": {},
   "outputs": [],
   "source": [
    "import numpy as np\n",
    "import random\n",
    "\n",
    "def ts(x, y, a):\n",
    "    tabu_list = []\n",
    "    old = np.zeros(x) # 舊解\n",
    "    new = np.zeros(x) # 新解\n",
    "    nums = 0 # 迴圈次數\n",
    "    num = 0 # 特殊規則次數\n",
    "    while nums < y:\n",
    "        z = random.randint(0, len(new)-1)\n",
    "        new[z] = 1\n",
    "        if (new.sum() > old.sum()) and all(not np.array_equal(new, i) for i in tabu_list):\n",
    "            if new.sum() > old.sum():\n",
    "                old = new\n",
    "                tabu_list.append(new)\n",
    "                if len(tabu_list) > 7:\n",
    "                    tabu_list.pop(0)\n",
    "                print('第{}次: {}, 分數: {}'.format(nums+1, old, old.sum()))\n",
    "        else:\n",
    "            num += 1\n",
    "            if num == a:\n",
    "                old = max(tabu_list, key=lambda i: i.sum())\n",
    "                num = 0  # 重製特殊規則次數\n",
    "                print('第{}次: {}, 分數: {}'.format(nums+1, old, old.sum()))\n",
    "            else:\n",
    "                print('第{}次: {}, 分數: {}'.format(nums+1, old, old.sum()))\n",
    "        nums += 1\n",
    "\n",
    "# 幾個值、幾個迴圈次數、幾個特殊規則次數\n",
    "ts(4, 10, 3)"
   ]
  }
 ],
 "metadata": {
  "kernelspec": {
   "display_name": "Python 3",
   "language": "python",
   "name": "python3"
  },
  "language_info": {
   "codemirror_mode": {
    "name": "ipython",
    "version": 3
   },
   "file_extension": ".py",
   "mimetype": "text/x-python",
   "name": "python",
   "nbconvert_exporter": "python",
   "pygments_lexer": "ipython3",
   "version": "3.10.16"
  }
 },
 "nbformat": 4,
 "nbformat_minor": 2
}
