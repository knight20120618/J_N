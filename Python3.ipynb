{
 "cells": [
  {
   "cell_type": "markdown",
   "id": "8321d709",
   "metadata": {
    "id": "8321d709"
   },
   "source": [
    "101"
   ]
  },
  {
   "cell_type": "code",
   "execution_count": null,
   "id": "2bc6e7d9",
   "metadata": {
    "id": "2bc6e7d9"
   },
   "outputs": [],
   "source": [
    "n1 = int(input())\n",
    "n2 = int(input())\n",
    "n3 = int(input())\n",
    "n4 = int(input())\n",
    "print('|{:>5d} {:>5d}|'.format(n1,n2))\n",
    "print('|{:>5d} {:>5d}|'.format(n3,n4))\n",
    "print('|{:<5d} {:<5d}|'.format(n1,n2))\n",
    "print('|{:<5d} {:<5d}|'.format(n3,n4))"
   ]
  },
  {
   "cell_type": "markdown",
   "id": "0a42da5c",
   "metadata": {
    "id": "0a42da5c"
   },
   "source": [
    "102"
   ]
  },
  {
   "cell_type": "code",
   "execution_count": null,
   "id": "c2871b8b",
   "metadata": {
    "id": "c2871b8b"
   },
   "outputs": [],
   "source": [
    "n1 = float(input())\n",
    "n2 = float(input())\n",
    "n3 = float(input())\n",
    "n4 = float(input())\n",
    "print('|{:>7.2f} {:>7.2f}|'.format(n1,n2))\n",
    "print('|{:>7.2f} {:>7.2f}|'.format(n3,n4))\n",
    "print('|{:<7.2f} {:<7.2f}|'.format(n1,n2))\n",
    "print('|{:<7.2f} {:<7.2f}|'.format(n3,n4))"
   ]
  },
  {
   "cell_type": "markdown",
   "id": "387822df",
   "metadata": {
    "id": "387822df"
   },
   "source": [
    "103"
   ]
  },
  {
   "cell_type": "code",
   "execution_count": null,
   "id": "bf517c0c",
   "metadata": {
    "id": "bf517c0c"
   },
   "outputs": [],
   "source": [
    "n1 = str(input())\n",
    "n2 = str(input())\n",
    "n3 = str(input())\n",
    "n4 = str(input())\n",
    "print('|{:>10s} {:>10s}|'.format(n1,n2))\n",
    "print('|{:>10s} {:>10s}|'.format(n3,n4))\n",
    "print('|{:<10s} {:<10s}|'.format(n1,n2))\n",
    "print('|{:<10s} {:<10s}|'.format(n3,n4))"
   ]
  },
  {
   "cell_type": "markdown",
   "id": "310a2a16",
   "metadata": {
    "id": "310a2a16"
   },
   "source": [
    "104"
   ]
  },
  {
   "cell_type": "code",
   "execution_count": null,
   "id": "dd9f2872",
   "metadata": {
    "id": "dd9f2872"
   },
   "outputs": [],
   "source": [
    "import math\n",
    "radius = eval(input())\n",
    "print('Radius = {:.2f}'.format(radius))\n",
    "perimeter = (radius*2)*math.pi\n",
    "print('Perimeter = {:.2f}'.format(perimeter))\n",
    "area = (radius**2)*math.pi\n",
    "print('Area = {:.2f}'.format(area))"
   ]
  },
  {
   "cell_type": "markdown",
   "id": "c8c976e0",
   "metadata": {
    "id": "c8c976e0"
   },
   "source": [
    "105"
   ]
  },
  {
   "cell_type": "code",
   "execution_count": null,
   "id": "8d9da619",
   "metadata": {
    "id": "8d9da619"
   },
   "outputs": [],
   "source": [
    "height = eval(input())\n",
    "width = eval(input())\n",
    "perimeter = (height+width)*2\n",
    "area = height*width\n",
    "print('Height = {:.2f}'.format(height))\n",
    "print('Width = {:.2f}'.format(width))\n",
    "print('Perimeter = {:.2f}'.format(perimeter))\n",
    "print('Area = {:.2f}'.format(area))"
   ]
  },
  {
   "cell_type": "markdown",
   "id": "69c06727",
   "metadata": {
    "id": "69c06727"
   },
   "source": [
    "106"
   ]
  },
  {
   "cell_type": "code",
   "execution_count": null,
   "id": "d5aa29d5",
   "metadata": {
    "id": "d5aa29d5"
   },
   "outputs": [],
   "source": [
    "x = eval(input())\n",
    "y = eval(input())\n",
    "z = eval(input())\n",
    "speed = (z/1.6)/(x/60+y/3600)\n",
    "print('Speed = {:.1f}'.format(speed))"
   ]
  },
  {
   "cell_type": "markdown",
   "id": "5c7e6712",
   "metadata": {
    "id": "5c7e6712"
   },
   "source": [
    "107"
   ]
  },
  {
   "cell_type": "code",
   "execution_count": null,
   "id": "83640799",
   "metadata": {
    "id": "83640799"
   },
   "outputs": [],
   "source": [
    "n1 = eval(input())\n",
    "n2 = eval(input())\n",
    "n3 = eval(input())\n",
    "n4 = eval(input())\n",
    "n5 = eval(input())\n",
    "sums = n1+n2+n3+n4+n5\n",
    "avg = sums/5\n",
    "print(n1,n2,n3,n4,n5)\n",
    "print('Sum = {:.1f}'.format(sums))\n",
    "print('Average = {:.1f}'.format(avg))"
   ]
  },
  {
   "cell_type": "markdown",
   "id": "d5ea1666",
   "metadata": {
    "id": "d5ea1666"
   },
   "source": [
    "108"
   ]
  },
  {
   "cell_type": "code",
   "execution_count": null,
   "id": "8ded11b1",
   "metadata": {
    "id": "8ded11b1"
   },
   "outputs": [],
   "source": [
    "x1 = eval(input())\n",
    "y1 = eval(input())\n",
    "x2 = eval(input())\n",
    "y2 = eval(input())\n",
    "distance = (((x1-x2)**2)+((y1-y2)**2))**0.5\n",
    "print('( {} , {} )'.format(x1,y1))\n",
    "print('( {} , {} )'.format(x2,y2))\n",
    "print('Distance = {:.4f}'.format(distance))"
   ]
  },
  {
   "cell_type": "markdown",
   "id": "32887ab5",
   "metadata": {
    "id": "32887ab5"
   },
   "source": [
    "109"
   ]
  },
  {
   "cell_type": "code",
   "execution_count": null,
   "id": "1000c87f",
   "metadata": {
    "id": "1000c87f"
   },
   "outputs": [],
   "source": [
    "import math\n",
    "S = eval(input())\n",
    "area = (5*(S**2))/(4*math.tan(math.pi/5))\n",
    "print('Area = {:.4f}'.format(area))"
   ]
  },
  {
   "cell_type": "markdown",
   "id": "c6220200",
   "metadata": {
    "id": "c6220200"
   },
   "source": [
    "110"
   ]
  },
  {
   "cell_type": "code",
   "execution_count": null,
   "id": "dee9b5d6",
   "metadata": {
    "id": "dee9b5d6"
   },
   "outputs": [],
   "source": [
    "import math\n",
    "N = eval(input())\n",
    "S = eval(input())\n",
    "area = (N*(S**2))/(4*math.tan(math.pi/N))\n",
    "print('Area = {:.4f}'.format(area))"
   ]
  },
  {
   "cell_type": "markdown",
   "id": "21b26fd8",
   "metadata": {
    "id": "21b26fd8"
   },
   "source": [
    "201"
   ]
  },
  {
   "cell_type": "code",
   "execution_count": null,
   "id": "d1656503",
   "metadata": {
    "id": "d1656503"
   },
   "outputs": [],
   "source": [
    "even = int(input())\n",
    "if even % 2 == 0:\n",
    "  print('{} is an even number.'.format(even))\n",
    "else:\n",
    "  print('{} is not an even number.'.format(even))"
   ]
  },
  {
   "cell_type": "markdown",
   "id": "562fef6c",
   "metadata": {
    "id": "562fef6c"
   },
   "source": [
    "202"
   ]
  },
  {
   "cell_type": "code",
   "execution_count": null,
   "id": "8a82cafd",
   "metadata": {
    "id": "8a82cafd"
   },
   "outputs": [],
   "source": [
    "a = int(input())\n",
    "if a % 15 == 0:\n",
    "  print('{} is a multiple of 3 and 5.'.format(a))\n",
    "elif a % 3 == 0:\n",
    "  print('{} is a multiple of 3.'.format(a))\n",
    "elif a % 5 == 0:\n",
    "  print('{} is a multiple of 5.'.format(a))\n",
    "else:\n",
    "  print('{} is not a multiple of 3 or 5.'.format(a))"
   ]
  },
  {
   "cell_type": "markdown",
   "id": "a266f9ae",
   "metadata": {
    "id": "a266f9ae"
   },
   "source": [
    "203"
   ]
  },
  {
   "cell_type": "code",
   "execution_count": null,
   "id": "6a302210",
   "metadata": {
    "id": "6a302210"
   },
   "outputs": [],
   "source": [
    "leap = int(input())\n",
    "if (leap % 4 == 0 and leap % 100 != 0) or (leap % 400 == 0):\n",
    "  print('{} is a leap year.'.format(leap))\n",
    "else:\n",
    "  print('{} is not a leap year.'.format(leap))"
   ]
  },
  {
   "cell_type": "markdown",
   "id": "a1a3998d",
   "metadata": {
    "id": "a1a3998d"
   },
   "source": [
    "204"
   ]
  },
  {
   "cell_type": "code",
   "execution_count": null,
   "id": "8c6ae3a5",
   "metadata": {
    "id": "8c6ae3a5"
   },
   "outputs": [],
   "source": [
    "a = int(input())\n",
    "b = int(input())\n",
    "c = str(input())\n",
    "if c == '+':\n",
    "  d = a + b\n",
    "  print(d)\n",
    "elif c == '-':\n",
    "  d = a - b\n",
    "  print(d)\n",
    "elif c == '*':\n",
    "  d = a * b\n",
    "  print(d)\n",
    "elif c == '/':\n",
    "  d = a / b\n",
    "  print(d)\n",
    "elif c == '//':\n",
    "  d = a // b\n",
    "  print(d)\n",
    "elif c == '%':\n",
    "  d = a % b\n",
    "  print(d)"
   ]
  },
  {
   "cell_type": "markdown",
   "id": "a0827963",
   "metadata": {
    "id": "a0827963"
   },
   "source": [
    "205"
   ]
  },
  {
   "cell_type": "code",
   "execution_count": null,
   "id": "29744463",
   "metadata": {
    "id": "29744463"
   },
   "outputs": [],
   "source": [
    "x = str(input())\n",
    "if x.isalpha():\n",
    "  print('{} is an alphabet.'.format(x))\n",
    "elif x.isdigit():\n",
    "  print('{} is a number.'.format(x))\n",
    "else:\n",
    "  print('{} is a symbol.'.format(x))"
   ]
  },
  {
   "cell_type": "markdown",
   "id": "558bd4b7",
   "metadata": {
    "id": "558bd4b7"
   },
   "source": [
    "206"
   ]
  },
  {
   "cell_type": "code",
   "execution_count": null,
   "id": "c291e184",
   "metadata": {
    "id": "c291e184"
   },
   "outputs": [],
   "source": [
    "x = int(input())\n",
    "if x >= 80 and x <= 100:\n",
    "  print('A')\n",
    "elif x < 80 and x >= 70:\n",
    "  print('B')\n",
    "elif x < 70 and x >= 60:\n",
    "  print('B')\n",
    "else:\n",
    "  print('F')"
   ]
  },
  {
   "cell_type": "markdown",
   "id": "ccd164fd",
   "metadata": {
    "id": "ccd164fd"
   },
   "source": [
    "207"
   ]
  },
  {
   "cell_type": "code",
   "execution_count": null,
   "id": "28a66875",
   "metadata": {
    "id": "28a66875"
   },
   "outputs": [],
   "source": [
    "x = eval(input())\n",
    "if x >= 38000:\n",
    "  y = x * 0.7\n",
    "  print(y)\n",
    "elif x < 38000 and x >= 28000:\n",
    "  y = x * 0.8\n",
    "  print(y)\n",
    "elif x < 28000 and x >= 18000:\n",
    "  y = x * 0.9\n",
    "  print(y)\n",
    "elif x < 18000 and x >= 8000:\n",
    "  y = x * 0.95\n",
    "  print(y)"
   ]
  },
  {
   "cell_type": "markdown",
   "id": "e9420c18",
   "metadata": {
    "id": "e9420c18"
   },
   "source": [
    "208"
   ]
  },
  {
   "cell_type": "code",
   "execution_count": null,
   "id": "a3b2c059",
   "metadata": {
    "id": "a3b2c059"
   },
   "outputs": [],
   "source": [
    "num = str(input())\n",
    "if num == '10':\n",
    "  print('A')\n",
    "elif num == '11':\n",
    "  print('B')\n",
    "elif num == '12':\n",
    "  print('C')\n",
    "elif num == '13':\n",
    "  print('D')\n",
    "elif num == '14':\n",
    "  print('E')\n",
    "elif num == '15':\n",
    "  print('F')\n",
    "else:\n",
    "  print(num)"
   ]
  },
  {
   "cell_type": "markdown",
   "id": "8147de74",
   "metadata": {
    "id": "8147de74"
   },
   "source": [
    "209"
   ]
  },
  {
   "cell_type": "code",
   "execution_count": null,
   "id": "e7141715",
   "metadata": {
    "id": "e7141715"
   },
   "outputs": [],
   "source": [
    "x = float(input())\n",
    "y = float(input())\n",
    "z = (((x-5)**2)+((y-6)**2))**0.5\n",
    "if z <= 15:\n",
    "  print('Inside')\n",
    "else:\n",
    "  print('Outside')"
   ]
  },
  {
   "cell_type": "markdown",
   "id": "6baedeff",
   "metadata": {
    "id": "6baedeff"
   },
   "source": [
    "210"
   ]
  },
  {
   "cell_type": "code",
   "execution_count": null,
   "id": "e36b1ec4",
   "metadata": {
    "id": "e36b1ec4"
   },
   "outputs": [],
   "source": [
    "a = int(input())\n",
    "b = int(input())\n",
    "c = int(input())\n",
    "if a+b > c and a+c > b and b+c > a:\n",
    "  d = a+b+c\n",
    "  print(d)\n",
    "else:\n",
    "  print('Invalid')"
   ]
  },
  {
   "cell_type": "markdown",
   "id": "33ef9eec",
   "metadata": {
    "id": "33ef9eec"
   },
   "source": [
    "301"
   ]
  },
  {
   "cell_type": "code",
   "execution_count": null,
   "id": "fdce8bce",
   "metadata": {
    "id": "fdce8bce"
   },
   "outputs": [],
   "source": [
    "a = int(input())\n",
    "b = int(input())\n",
    "total = 0\n",
    "for i in range(a, b+1):\n",
    "  total += i\n",
    "print(total)"
   ]
  },
  {
   "cell_type": "markdown",
   "id": "607d2e36",
   "metadata": {
    "id": "607d2e36"
   },
   "source": [
    "302"
   ]
  },
  {
   "cell_type": "code",
   "execution_count": null,
   "id": "69e5359a",
   "metadata": {
    "id": "69e5359a"
   },
   "outputs": [],
   "source": [
    "a = int(input())\n",
    "b = int(input())\n",
    "total = 0\n",
    "if a % 2 == 0:\n",
    "  for i in range(a, b+1, 2):\n",
    "    total += i\n",
    "  print(total)\n",
    "else:\n",
    "  for i in range(a+1, b+1, 2):\n",
    "    total += i\n",
    "  print(total)"
   ]
  },
  {
   "cell_type": "markdown",
   "id": "8bfd3545",
   "metadata": {
    "id": "8bfd3545"
   },
   "source": [
    "303"
   ]
  },
  {
   "cell_type": "code",
   "execution_count": null,
   "id": "631de1a8",
   "metadata": {
    "id": "631de1a8"
   },
   "outputs": [],
   "source": [
    "x = int(input())\n",
    "for i in range(1, x+1):\n",
    "  for j in range(1, i+1):\n",
    "    print('{:>4}'.format(i*j),end='')\n",
    "  print('')"
   ]
  },
  {
   "cell_type": "markdown",
   "id": "2e04044e",
   "metadata": {
    "id": "2e04044e"
   },
   "source": [
    "304"
   ]
  },
  {
   "cell_type": "code",
   "execution_count": null,
   "id": "3445c26a",
   "metadata": {
    "id": "3445c26a"
   },
   "outputs": [],
   "source": [
    "a = int(input())\n",
    "total = 0\n",
    "for i in range(1, a+1):\n",
    "  if i % 5 == 0:\n",
    "    total += i\n",
    "print(total)"
   ]
  },
  {
   "cell_type": "markdown",
   "id": "e4aad802",
   "metadata": {
    "id": "e4aad802"
   },
   "source": [
    "305"
   ]
  },
  {
   "cell_type": "code",
   "execution_count": null,
   "id": "48a77a3b",
   "metadata": {
    "id": "48a77a3b"
   },
   "outputs": [],
   "source": [
    "x = input()\n",
    "print(x[::-1])"
   ]
  },
  {
   "cell_type": "markdown",
   "id": "f633df91",
   "metadata": {
    "id": "f633df91"
   },
   "source": [
    "306"
   ]
  },
  {
   "cell_type": "code",
   "execution_count": null,
   "id": "8eb72a76",
   "metadata": {
    "id": "8eb72a76"
   },
   "outputs": [],
   "source": [
    "n = int(input())\n",
    "total = 1\n",
    "for i in range(1, n+1):\n",
    "  total *= i\n",
    "print(total)"
   ]
  },
  {
   "cell_type": "markdown",
   "id": "e4f8a502",
   "metadata": {
    "id": "e4f8a502"
   },
   "source": [
    "307"
   ]
  },
  {
   "cell_type": "code",
   "execution_count": null,
   "id": "d9e6e80a",
   "metadata": {
    "id": "d9e6e80a"
   },
   "outputs": [],
   "source": [
    "n = int(input())\n",
    "for i in range(1, n+1):\n",
    "  for j in range(1, n+1):\n",
    "    print('{:<2}* {:<2}= {:<4}'.format(j, i, i*j), end='')\n",
    "  print()"
   ]
  },
  {
   "cell_type": "markdown",
   "id": "37a4f27b",
   "metadata": {
    "id": "37a4f27b"
   },
   "source": [
    "308"
   ]
  },
  {
   "cell_type": "code",
   "execution_count": null,
   "id": "6fbab861",
   "metadata": {
    "id": "6fbab861"
   },
   "outputs": [],
   "source": [
    "n = int(input())\n",
    "for i in range(n):\n",
    "  x = input()\n",
    "  total = []\n",
    "  for j in x:\n",
    "    total.append(int(j))\n",
    "  print('Sum of all digits of {} is {}'.format(x, sum(total)))"
   ]
  },
  {
   "cell_type": "markdown",
   "id": "c18d9bc2",
   "metadata": {
    "id": "c18d9bc2"
   },
   "source": [
    "309"
   ]
  },
  {
   "cell_type": "code",
   "execution_count": null,
   "id": "5460857f",
   "metadata": {
    "id": "5460857f"
   },
   "outputs": [],
   "source": [
    "money = int(input())\n",
    "year = eval(input())\n",
    "month = int(input())\n",
    "print('{} \\t  {}'.format('Month','Amount'))\n",
    "total = money\n",
    "for i in range(1, month+1):\n",
    "  total = total + total*year/1200\n",
    "  print('{:3d} \\t {:.2f}'.format(i, total))"
   ]
  },
  {
   "cell_type": "markdown",
   "id": "1c7df793",
   "metadata": {
    "id": "1c7df793"
   },
   "source": [
    "310"
   ]
  },
  {
   "cell_type": "code",
   "execution_count": null,
   "id": "caead7e5",
   "metadata": {
    "id": "caead7e5"
   },
   "outputs": [],
   "source": [
    "n = int(input())\n",
    "total = 0\n",
    "for i in range(1, n):\n",
    "  total += 1 / ((i**0.5) + ((i+1)**0.5))\n",
    "print('{:.4f}'.format(total))"
   ]
  },
  {
   "cell_type": "markdown",
   "id": "83a1a56d",
   "metadata": {
    "id": "83a1a56d"
   },
   "source": [
    "401"
   ]
  },
  {
   "cell_type": "code",
   "execution_count": null,
   "id": "XEiHMIhqQsVz",
   "metadata": {
    "id": "XEiHMIhqQsVz"
   },
   "outputs": [],
   "source": [
    "num = []\n",
    "for i in range(10):\n",
    "  num.append(eval(input()))\n",
    "print(min(num))"
   ]
  },
  {
   "cell_type": "markdown",
   "id": "2e4299fa",
   "metadata": {
    "id": "2e4299fa"
   },
   "source": [
    "402"
   ]
  },
  {
   "cell_type": "code",
   "execution_count": null,
   "id": "a961ab12",
   "metadata": {
    "id": "a961ab12"
   },
   "outputs": [],
   "source": [
    "num = []\n",
    "while True:\n",
    "  nums = eval(input())\n",
    "  if nums == 9999:\n",
    "    break\n",
    "  num.append(nums)\n",
    "print(min(num))"
   ]
  },
  {
   "cell_type": "markdown",
   "id": "0f65281e",
   "metadata": {
    "id": "0f65281e"
   },
   "source": [
    "403"
   ]
  },
  {
   "cell_type": "code",
   "execution_count": null,
   "id": "e2532dc5",
   "metadata": {
    "id": "e2532dc5"
   },
   "outputs": [],
   "source": [
    "a = int(input())\n",
    "b = int(input())\n",
    "count = 0\n",
    "total = 0\n",
    "for i in range(a, b+1):\n",
    "  if i % 4 == 0 or i % 9 == 0:\n",
    "    count += 1\n",
    "    total += i\n",
    "    print('{:<4}'.format(i), end='')\n",
    "    if count % 10 == 0:\n",
    "      print()\n",
    "print('\\n{}'.format(count))\n",
    "print(total)"
   ]
  },
  {
   "cell_type": "markdown",
   "id": "217acc9f",
   "metadata": {
    "id": "217acc9f"
   },
   "source": [
    "404"
   ]
  },
  {
   "cell_type": "code",
   "execution_count": null,
   "id": "eb4c2c46",
   "metadata": {
    "id": "eb4c2c46"
   },
   "outputs": [],
   "source": [
    "num = input()\n",
    "print(num[::-1])"
   ]
  },
  {
   "cell_type": "markdown",
   "id": "6a218e41",
   "metadata": {
    "id": "6a218e41"
   },
   "source": [
    "405"
   ]
  },
  {
   "cell_type": "code",
   "execution_count": null,
   "id": "1cdcb89e",
   "metadata": {
    "id": "1cdcb89e"
   },
   "outputs": [],
   "source": [
    "while True:\n",
    "  num = int(input())\n",
    "  if num == -9999:\n",
    "    break\n",
    "  elif num <= 100 and num >= 90:\n",
    "    print('A')\n",
    "  elif num <= 89 and num >= 80:\n",
    "    print('B')\n",
    "  elif num <= 79 and num >= 70:\n",
    "    print('C')\n",
    "  elif num <= 69 and num >= 60:\n",
    "    print('D')\n",
    "  else:\n",
    "    print('E')"
   ]
  },
  {
   "cell_type": "markdown",
   "id": "ce506944",
   "metadata": {
    "id": "ce506944"
   },
   "source": [
    "406"
   ]
  },
  {
   "cell_type": "code",
   "execution_count": null,
   "id": "d097f7c7",
   "metadata": {
    "id": "d097f7c7"
   },
   "outputs": [],
   "source": [
    "while True:\n",
    "  cm = eval(input())\n",
    "  if cm == -9999:\n",
    "    break\n",
    "  else:\n",
    "    kg = eval(input())\n",
    "    bmi = kg / ((cm / 100)**2)\n",
    "    print('BMI: {:.2f}'.format(bmi))\n",
    "    if bmi < 18.5:\n",
    "      print('State: {}'.format('under weight'))\n",
    "    elif bmi < 25 and bmi >= 18.5:\n",
    "      print('State: {}'.format('normal'))\n",
    "    elif bmi < 30 and bmi >= 25:\n",
    "      print('State: {}'.format('over weight'))\n",
    "    elif bmi >= 30:\n",
    "      print('State: {}'.format('fat'))"
   ]
  },
  {
   "cell_type": "markdown",
   "id": "ebdfacc6",
   "metadata": {
    "id": "ebdfacc6"
   },
   "source": [
    "407"
   ]
  },
  {
   "cell_type": "code",
   "execution_count": null,
   "id": "de915e82",
   "metadata": {
    "id": "de915e82"
   },
   "outputs": [],
   "source": [
    "while True:\n",
    "  year = int(input())\n",
    "  if year == -9999:\n",
    "    break\n",
    "  elif (year % 4 == 0 and year % 100 != 0) or (year % 400 == 0):\n",
    "    print('{} is a leap year.'.format(year))\n",
    "  else:\n",
    "    print('{} is not a leap year.'.format(year))"
   ]
  },
  {
   "cell_type": "markdown",
   "id": "998af45e",
   "metadata": {
    "id": "998af45e"
   },
   "source": [
    "408"
   ]
  },
  {
   "cell_type": "code",
   "execution_count": null,
   "id": "1f156dbc",
   "metadata": {
    "id": "1f156dbc"
   },
   "outputs": [],
   "source": [
    "even = 0\n",
    "odd = 0\n",
    "for i in range(10):\n",
    "  num = int(input())\n",
    "  if num % 2 == 0:\n",
    "    even += 1\n",
    "  else:\n",
    "    odd += 1\n",
    "print('Even numbers: {}'.format(even))\n",
    "print('Odd numbers: {}'.format(odd))"
   ]
  },
  {
   "cell_type": "markdown",
   "id": "92e2e672",
   "metadata": {
    "id": "92e2e672"
   },
   "source": [
    "409"
   ]
  },
  {
   "cell_type": "code",
   "execution_count": null,
   "id": "d06ffeda",
   "metadata": {
    "id": "d06ffeda"
   },
   "outputs": [],
   "source": [
    "Nami = Chopper = X = 0\n",
    "for i in range(5):\n",
    "  n = int(input())\n",
    "  if n == 1:\n",
    "    Nami += 1\n",
    "  elif n == 2:\n",
    "    Chopper += 1\n",
    "  else:\n",
    "    X += 1\n",
    "  print('Total votes of No.1: Nami =  {}'.format(Nami))\n",
    "  print('Total votes of No.2: Chopper =  {}'.format(Chopper))\n",
    "  print('Total null votes =  {}'.format(X))\n",
    "if Nami > Chopper:\n",
    "  print('=> No.1 Nami won the election.')\n",
    "elif Nami < Chopper:\n",
    "  print('=> No.2 Chopper won the election.')\n",
    "else:\n",
    "  print('=> No one won the election.')"
   ]
  },
  {
   "cell_type": "markdown",
   "id": "1f1d0fd4",
   "metadata": {
    "id": "1f1d0fd4"
   },
   "source": [
    "410"
   ]
  },
  {
   "cell_type": "code",
   "execution_count": null,
   "id": "24ae88a7",
   "metadata": {
    "id": "24ae88a7"
   },
   "outputs": [],
   "source": [
    "n = int(input())\n",
    "for i in range(1,n+1):\n",
    "  for j in range(n-i):\n",
    "    print(' ', end='')\n",
    "  for k in range(2*i-1):\n",
    "    print('*', end='')\n",
    "  print()"
   ]
  },
  {
   "cell_type": "markdown",
   "id": "f7167523",
   "metadata": {
    "id": "f7167523"
   },
   "source": [
    "501"
   ]
  },
  {
   "cell_type": "code",
   "execution_count": null,
   "id": "b43996df",
   "metadata": {
    "id": "b43996df"
   },
   "outputs": [],
   "source": [
    "department = str(input())\n",
    "student = str(input())\n",
    "name = str(input())\n",
    "def compute(department, student, name):\n",
    "  print('Department: {}'.format(department))\n",
    "  print('Student ID: {}'.format(student))\n",
    "  print('Name: {}'.format(name))\n",
    "compute(department, student, name)"
   ]
  },
  {
   "cell_type": "markdown",
   "id": "b72b5a05",
   "metadata": {
    "id": "b72b5a05"
   },
   "source": [
    "502"
   ]
  },
  {
   "cell_type": "code",
   "execution_count": null,
   "id": "90e0127a",
   "metadata": {
    "id": "90e0127a"
   },
   "outputs": [],
   "source": [
    "x = int(input())\n",
    "y = int(input())\n",
    "def compute(x, y):\n",
    "  z = x*y\n",
    "  print(z)\n",
    "compute(x, y)"
   ]
  },
  {
   "cell_type": "markdown",
   "id": "70c75112",
   "metadata": {
    "id": "70c75112"
   },
   "source": [
    "503"
   ]
  },
  {
   "cell_type": "code",
   "execution_count": null,
   "id": "a2683a29",
   "metadata": {
    "id": "a2683a29"
   },
   "outputs": [],
   "source": [
    "a = int(input())\n",
    "b = int(input())\n",
    "total = 0\n",
    "def compute(a, b, total):\n",
    "  for i in range(a, b+1):\n",
    "    total += i\n",
    "  print(total)\n",
    "compute(a, b, total)"
   ]
  },
  {
   "cell_type": "markdown",
   "id": "bdd5c8eb",
   "metadata": {
    "id": "bdd5c8eb"
   },
   "source": [
    "504"
   ]
  },
  {
   "cell_type": "code",
   "execution_count": null,
   "id": "a050411e",
   "metadata": {
    "id": "a050411e"
   },
   "outputs": [],
   "source": [
    "a = int(input())\n",
    "b = int(input())\n",
    "def compute(a, b):\n",
    "  c = a ** b\n",
    "  print(c)\n",
    "compute(a, b)"
   ]
  },
  {
   "cell_type": "markdown",
   "id": "f11e10c1",
   "metadata": {
    "id": "f11e10c1"
   },
   "source": [
    "505"
   ]
  },
  {
   "cell_type": "code",
   "execution_count": null,
   "id": "848c9137",
   "metadata": {
    "id": "848c9137"
   },
   "outputs": [],
   "source": [
    "a = str(input())\n",
    "x = int(input())\n",
    "y = int(input())\n",
    "def compute(a, x, y):\n",
    "  for i in range(y):\n",
    "    for j in range(x):\n",
    "      print('{} '.format(a), end='')\n",
    "    print()\n",
    "compute(a, x, y)"
   ]
  },
  {
   "cell_type": "markdown",
   "id": "4a7186b3",
   "metadata": {
    "id": "4a7186b3"
   },
   "source": [
    "506"
   ]
  },
  {
   "cell_type": "code",
   "execution_count": null,
   "id": "e68e3371",
   "metadata": {
    "id": "e68e3371"
   },
   "outputs": [],
   "source": [
    "a = int(input())\n",
    "b = int(input())\n",
    "c = int(input())\n",
    "def compute(a, b ,c):\n",
    "  d = b**2-4*a*c\n",
    "  if d > 0:\n",
    "    s1 = (-b+(b**2-4*a*c)**0.5)/(2*a)\n",
    "    s2 = (-b-(b**2-4*a*c)**0.5)/(2*a)\n",
    "    print('{}, {}'.format(s1, s2))\n",
    "  elif d == 0:\n",
    "    print(-b/(2*a))\n",
    "  else:\n",
    "    print('Your equation has no root.')\n",
    "compute(a,b,c)"
   ]
  },
  {
   "cell_type": "markdown",
   "id": "76d7c71f",
   "metadata": {
    "id": "76d7c71f"
   },
   "source": [
    "507"
   ]
  },
  {
   "cell_type": "code",
   "execution_count": null,
   "id": "713d9b6d",
   "metadata": {
    "id": "713d9b6d"
   },
   "outputs": [],
   "source": [
    "def compute(x):\n",
    "  n = True\n",
    "  if x <= 1:\n",
    "    n = False\n",
    "  else:\n",
    "    for i in range(2, x):\n",
    "      if x % i == 0:\n",
    "        n = False\n",
    "        break\n",
    "  return n\n",
    "x = int(input())\n",
    "if compute(x):\n",
    "  print('Prime')\n",
    "else:\n",
    "  print('Not Prime')"
   ]
  },
  {
   "cell_type": "markdown",
   "id": "547f978b",
   "metadata": {
    "id": "547f978b"
   },
   "source": [
    "508"
   ]
  },
  {
   "cell_type": "code",
   "execution_count": null,
   "id": "56a8d111",
   "metadata": {
    "id": "56a8d111"
   },
   "outputs": [],
   "source": [
    "import math\n",
    "(x,y) = eval(input())\n",
    "def compute(x,y):\n",
    "  g = math.gcd(x,y)\n",
    "  print(g)\n",
    "compute(x,y)"
   ]
  },
  {
   "cell_type": "markdown",
   "id": "17094a56",
   "metadata": {
    "id": "17094a56"
   },
   "source": [
    "509"
   ]
  },
  {
   "cell_type": "code",
   "execution_count": null,
   "id": "2c78e0ec",
   "metadata": {
    "id": "2c78e0ec"
   },
   "outputs": [],
   "source": [
    "import math\n",
    "(x, y) = eval(input())\n",
    "(m, n) = eval(input())\n",
    "p = x*n+y*m\n",
    "q = y*n\n",
    "def compute(p, q):\n",
    "  g = math.gcd(p,q)\n",
    "  print('{}/{} + {}/{} = {}/{}'.format(x,y,m,n,int(p/g),int(q/g)))\n",
    "compute(p, q)"
   ]
  },
  {
   "cell_type": "markdown",
   "id": "1d365f14",
   "metadata": {
    "id": "1d365f14"
   },
   "source": [
    "510"
   ]
  },
  {
   "cell_type": "code",
   "execution_count": null,
   "id": "9e1bcd23",
   "metadata": {
    "id": "9e1bcd23"
   },
   "outputs": [],
   "source": [
    "def compute(i):\n",
    "  if i <= 1:\n",
    "    return i\n",
    "  else:\n",
    "    return(compute(i-2)+compute(i-1))\n",
    "n = int(input())\n",
    "for i in range(n):\n",
    "  print(compute(i),end=' ')"
   ]
  },
  {
   "cell_type": "markdown",
   "id": "2d4aa9dc",
   "metadata": {
    "id": "2d4aa9dc"
   },
   "source": [
    "601"
   ]
  },
  {
   "cell_type": "code",
   "execution_count": null,
   "id": "c4c1a88f",
   "metadata": {
    "id": "c4c1a88f"
   },
   "outputs": [],
   "source": [
    "num = []\n",
    "for i in range(12):\n",
    "  n = int(input())\n",
    "  print('{:>3}'.format(n), end='')\n",
    "  if i % 2 == 0:\n",
    "    num.append(n)\n",
    "  if i % 3 == 2:\n",
    "    print('')\n",
    "print(sum(num))"
   ]
  },
  {
   "cell_type": "markdown",
   "id": "e3086f9a",
   "metadata": {
    "id": "e3086f9a"
   },
   "source": [
    "602"
   ]
  },
  {
   "cell_type": "code",
   "execution_count": null,
   "id": "1cb1ac52",
   "metadata": {
    "id": "1cb1ac52"
   },
   "outputs": [],
   "source": [
    "total = 0\n",
    "for i in range(5):\n",
    "  n = input()\n",
    "  if n == 'J':\n",
    "    total += 11\n",
    "  elif n == 'Q':\n",
    "    total += 12\n",
    "  elif n == 'K':\n",
    "    total += 13\n",
    "  elif n == 'A':\n",
    "    total += 1\n",
    "  else:\n",
    "    total += int(n)\n",
    "print(total)"
   ]
  },
  {
   "cell_type": "markdown",
   "id": "d979d20c",
   "metadata": {
    "id": "d979d20c"
   },
   "source": [
    "603"
   ]
  },
  {
   "cell_type": "code",
   "execution_count": null,
   "id": "e20facef",
   "metadata": {
    "id": "e20facef"
   },
   "outputs": [],
   "source": [
    "n = []\n",
    "for i in range(10):\n",
    "  n.append(int(input()))\n",
    "num = sorted(n)\n",
    "print(num[-1],num[-2],num[-3])"
   ]
  },
  {
   "cell_type": "markdown",
   "id": "29e948f8",
   "metadata": {
    "id": "29e948f8"
   },
   "source": [
    "604"
   ]
  },
  {
   "cell_type": "code",
   "execution_count": null,
   "id": "55ef6044",
   "metadata": {
    "id": "55ef6044"
   },
   "outputs": [],
   "source": [
    "n = []\n",
    "total = 1\n",
    "for i in range(10):\n",
    "  n.append(int(input()))\n",
    "  num = n.count(n[i])\n",
    "  if num > total:\n",
    "    total = num\n",
    "    nums = n[i]\n",
    "print(nums)\n",
    "print(total)"
   ]
  },
  {
   "cell_type": "markdown",
   "id": "aecb9d6c",
   "metadata": {
    "id": "aecb9d6c"
   },
   "source": [
    "605"
   ]
  },
  {
   "cell_type": "code",
   "execution_count": null,
   "id": "3ca41157",
   "metadata": {
    "id": "3ca41157"
   },
   "outputs": [],
   "source": [
    "num = []\n",
    "for i in range(10):\n",
    "  num.append(int(input()))\n",
    "nums = sorted(num)\n",
    "total = sum(nums) - nums[0] - nums[9]\n",
    "avg = total / 8\n",
    "print(total)\n",
    "print('{:.2f}'.format(avg))"
   ]
  },
  {
   "cell_type": "markdown",
   "id": "69dab647",
   "metadata": {
    "id": "69dab647"
   },
   "source": [
    "606"
   ]
  },
  {
   "cell_type": "code",
   "execution_count": null,
   "id": "9ead4895",
   "metadata": {
    "id": "9ead4895"
   },
   "outputs": [],
   "source": [
    "def compute(rows,cols):\n",
    "  for i in range(rows):\n",
    "    for j in range(cols):\n",
    "      print('{:4}'.format(j-i), end='')\n",
    "    print('')\n",
    "rows = int(input())\n",
    "cols = int(input())\n",
    "compute(rows,cols)"
   ]
  },
  {
   "cell_type": "markdown",
   "id": "876b009b",
   "metadata": {
    "id": "876b009b"
   },
   "source": [
    "607"
   ]
  },
  {
   "cell_type": "code",
   "execution_count": null,
   "id": "b84cdbc9",
   "metadata": {
    "id": "b84cdbc9"
   },
   "outputs": [],
   "source": [
    "n = ['1st', '2nd', '3rd']\n",
    "s = []\n",
    "for i in range(len(n)):\n",
    "  print('The {} student:'.format(n[i]))\n",
    "  s.append([])\n",
    "  for j in range(5):\n",
    "    s[i].append(int(input()))\n",
    "for k in range(3):\n",
    "  print('Student {}'.format(k+1))\n",
    "  print('#Sum {}'.format(sum(s[k])))\n",
    "  print('#Average {:.2f}'.format(sum(s[k])/5))"
   ]
  },
  {
   "cell_type": "markdown",
   "id": "bcaf0c33",
   "metadata": {
    "id": "bcaf0c33"
   },
   "source": [
    "608"
   ]
  },
  {
   "cell_type": "code",
   "execution_count": null,
   "id": "676c6fe0",
   "metadata": {
    "id": "676c6fe0"
   },
   "outputs": [],
   "source": [
    "n = []\n",
    "for i in range(9):\n",
    "  n.append(int(input()))\n",
    "max_ind = n.index(max(n))\n",
    "min_ind = n.index(min(n))\n",
    "max_x = max_ind //3\n",
    "max_y = max_ind %3\n",
    "min_x = min_ind //3\n",
    "min_y = min_ind %3\n",
    "print('Index of the largest number {} is: ({}, {})'.format(max(n),max_x,max_y))\n",
    "print('Index of the smallest number {} is: ({}, {})'.format(min(n),min_x,min_y))"
   ]
  },
  {
   "cell_type": "markdown",
   "id": "c4447e02",
   "metadata": {
    "id": "c4447e02"
   },
   "source": [
    "609"
   ]
  },
  {
   "cell_type": "code",
   "execution_count": null,
   "id": "7e8a0827",
   "metadata": {
    "id": "7e8a0827"
   },
   "outputs": [],
   "source": [
    "print('Enter matrix 1:')\n",
    "m1 = [[],[]]\n",
    "for i in range(2):\n",
    "  for j in range(2):\n",
    "    print('[{}, {}]: '.format(i+1,j+1),end='')\n",
    "    m1[i].append(eval(input()))\n",
    "print('Enter matrix 2:')\n",
    "m2 = [[],[]]\n",
    "for i in range(2):\n",
    "  for j in range(2):\n",
    "    print('[{}, {}]: '.format(i+1,j+1),end='')\n",
    "    m2[i].append(eval(input()))\n",
    "print('Matrix 1:')\n",
    "for i in range(2):\n",
    "  for j in range(2):\n",
    "    print('{} '.format(m1[i][j]),end='')\n",
    "  print()\n",
    "print('Matrix 2:')\n",
    "for i in range(2):\n",
    "  for j in range(2):\n",
    "    print('{} '.format(m2[i][j]),end='')\n",
    "  print()\n",
    "print('Sum of 2 matrices:')\n",
    "for i in range(2):\n",
    "  for j in range(2):\n",
    "    print('{} '.format(m1[i][j]+m2[i][j]),end='')\n",
    "  print()"
   ]
  },
  {
   "cell_type": "markdown",
   "id": "b9b50f3e",
   "metadata": {
    "id": "b9b50f3e"
   },
   "source": [
    "610"
   ]
  },
  {
   "cell_type": "code",
   "execution_count": null,
   "id": "632ee430",
   "metadata": {
    "id": "632ee430"
   },
   "outputs": [],
   "source": [
    "n = []\n",
    "for w in range(1, 5):\n",
    "  print('Week {}:'.format(w))\n",
    "  for D in range(1, 4):\n",
    "    x = eval(input('Day {}:'.format(D)))\n",
    "    n.append(x)\n",
    "A = sum(n) / len(n)\n",
    "print('Average: {:.2f}'.format(A))\n",
    "print('Highest: {}'.format(max(n)))\n",
    "print('Lowest: {}'.format(min(n)))"
   ]
  },
  {
   "cell_type": "markdown",
   "id": "21bdca52",
   "metadata": {
    "id": "21bdca52"
   },
   "source": [
    "701"
   ]
  },
  {
   "cell_type": "code",
   "execution_count": null,
   "id": "64bc0290",
   "metadata": {
    "id": "64bc0290"
   },
   "outputs": [],
   "source": [
    "num = []\n",
    "while True:\n",
    "  n = int(input())\n",
    "  if n == -9999:\n",
    "    break\n",
    "  num.append(n)\n",
    "nums = tuple(num)\n",
    "print(nums)\n",
    "print('Length: {}'.format(len(nums)))\n",
    "print('Max: {}'.format(max(nums)))\n",
    "print('Min: {}'.format(min(nums)))\n",
    "print('Sum: {}'.format(sum(nums)))"
   ]
  },
  {
   "cell_type": "markdown",
   "id": "6aaafb17",
   "metadata": {
    "id": "6aaafb17"
   },
   "source": [
    "702"
   ]
  },
  {
   "cell_type": "code",
   "execution_count": null,
   "id": "6bd6fb19",
   "metadata": {
    "id": "6bd6fb19"
   },
   "outputs": [],
   "source": [
    "x = []\n",
    "y = []\n",
    "print('Create tuple1:')\n",
    "while True:\n",
    "  n = eval(input())\n",
    "  if n == -9999:\n",
    "    break\n",
    "  x.append(n)\n",
    "print('Create tuple2:')\n",
    "while True:\n",
    "  n = eval(input())\n",
    "  if n == -9999:\n",
    "    break\n",
    "  y.append(n)\n",
    "z = x + y\n",
    "print('Combined tuple before sorting: {}'.format(tuple(z)))\n",
    "print('Combined list after sorting: {}'.format(sorted(z)))"
   ]
  },
  {
   "cell_type": "markdown",
   "id": "fea1a795",
   "metadata": {
    "id": "fea1a795"
   },
   "source": [
    "703"
   ]
  },
  {
   "cell_type": "code",
   "execution_count": null,
   "id": "5f619248",
   "metadata": {
    "id": "5f619248"
   },
   "outputs": [],
   "source": [
    "nums = []\n",
    "while True:\n",
    "  n = str(input())\n",
    "  if n == 'end':\n",
    "    break\n",
    "  nums.append(n)\n",
    "nums = tuple(nums)\n",
    "print(nums)\n",
    "print(nums[0:3])\n",
    "print(nums[-3:])"
   ]
  },
  {
   "cell_type": "markdown",
   "id": "d0236131",
   "metadata": {
    "id": "d0236131"
   },
   "source": [
    "704"
   ]
  },
  {
   "cell_type": "code",
   "execution_count": null,
   "id": "23a7a105",
   "metadata": {
    "id": "23a7a105"
   },
   "outputs": [],
   "source": [
    "num = []\n",
    "while True:\n",
    "  n = int(input())\n",
    "  if n == -9999:\n",
    "    break\n",
    "  num.append(n)\n",
    "nums = set(num)\n",
    "print('Length: {}'.format(len(nums)))\n",
    "print('Max: {}'.format(max(nums)))\n",
    "print('Min: {}'.format(min(nums)))\n",
    "print('Sum: {}'.format(sum(nums)))"
   ]
  },
  {
   "cell_type": "markdown",
   "id": "3501cccd",
   "metadata": {
    "id": "3501cccd"
   },
   "source": [
    "705"
   ]
  },
  {
   "cell_type": "code",
   "execution_count": null,
   "id": "db0c78ea",
   "metadata": {
    "id": "db0c78ea"
   },
   "outputs": [],
   "source": [
    "n1 = []\n",
    "n2 = []\n",
    "n3 = []\n",
    "print('Input to set1:')\n",
    "for i in range(5):\n",
    "  n = int(input())\n",
    "  n1.append(n)\n",
    "N1 = set(n1)\n",
    "print('Input to set2:')\n",
    "for i in range(3):\n",
    "  n = int(input())\n",
    "  n2.append(n)\n",
    "N2 = set(n2)\n",
    "print('Input to set3:')\n",
    "for i in range(9):\n",
    "  n = int(input())\n",
    "  n3.append(n)\n",
    "N3 = set(n3)\n",
    "print('set2 is subset of set1: {}'.format(N2.issubset(N1)))\n",
    "print('set3 is superset of set1: {}'.format(N3.issuperset(N1)))"
   ]
  },
  {
   "cell_type": "markdown",
   "id": "f6bc2842",
   "metadata": {
    "id": "f6bc2842"
   },
   "source": [
    "706"
   ]
  },
  {
   "cell_type": "code",
   "execution_count": null,
   "id": "e3d7012f",
   "metadata": {
    "id": "e3d7012f"
   },
   "outputs": [],
   "source": [
    "n = int(input())\n",
    "for i in range(n):\n",
    "  word = input()\n",
    "  SET = set(word.lower())\n",
    "  if ' ' in SET:\n",
    "    SET.remove(' ')\n",
    "  if len(SET) >= 26:\n",
    "    print('True')\n",
    "  else:\n",
    "    print('False')"
   ]
  },
  {
   "cell_type": "markdown",
   "id": "d31b09dc",
   "metadata": {
    "id": "d31b09dc"
   },
   "source": [
    "707"
   ]
  },
  {
   "cell_type": "code",
   "execution_count": null,
   "id": "21a13719",
   "metadata": {
    "id": "21a13719"
   },
   "outputs": [],
   "source": [
    "print(\"Enter group X's subjects:\")\n",
    "x = []\n",
    "while True:\n",
    "  n = str(input())\n",
    "  if n == 'end':\n",
    "    break\n",
    "  x.append(n)\n",
    "X = set(x)\n",
    "print(\"Enter group Y's subjects:\")\n",
    "y = []\n",
    "while True:\n",
    "  n = str(input())\n",
    "  if n == 'end':\n",
    "    break\n",
    "  y.append(n)\n",
    "Y = set(y)\n",
    "print(sorted(X.union(Y)))\n",
    "print(sorted(Y.intersection(X)))\n",
    "print(sorted(Y.difference(X)))\n",
    "print(sorted(Y.symmetric_difference(X)))"
   ]
  },
  {
   "cell_type": "markdown",
   "id": "a59d2143",
   "metadata": {
    "id": "a59d2143"
   },
   "source": [
    "708"
   ]
  },
  {
   "cell_type": "code",
   "execution_count": null,
   "id": "6dd59ed1",
   "metadata": {
    "id": "6dd59ed1"
   },
   "outputs": [],
   "source": [
    "x = {}\n",
    "y = {}\n",
    "print('Create dict1:')\n",
    "while True:\n",
    "  key = input('Key: ')\n",
    "  if key == 'end':\n",
    "    break\n",
    "  x[key] = input('Value: ')\n",
    "print('Create dict2:')\n",
    "while True:\n",
    "  key = input('Key: ')\n",
    "  if key == 'end':\n",
    "    break\n",
    "  y[key] = input('Value: ')\n",
    "x.update(y)\n",
    "for i in sorted(x.keys()):\n",
    "  print('{}: {}'.format(i,x[i]))"
   ]
  },
  {
   "cell_type": "markdown",
   "id": "354ba5a9",
   "metadata": {
    "id": "354ba5a9"
   },
   "source": [
    "709"
   ]
  },
  {
   "cell_type": "code",
   "execution_count": null,
   "id": "bacc7613",
   "metadata": {
    "id": "bacc7613"
   },
   "outputs": [],
   "source": [
    "color_dict = {}\n",
    "while True:\n",
    "  key = input('Key: ')\n",
    "  if key == 'end':\n",
    "    break\n",
    "  color_dict[key] = input('Value: ')\n",
    "for i in sorted(color_dict.keys()):\n",
    "  print('{}: {}'.format(i,color_dict[i]))"
   ]
  },
  {
   "cell_type": "markdown",
   "id": "3be44d3c",
   "metadata": {
    "id": "3be44d3c"
   },
   "source": [
    "710"
   ]
  },
  {
   "cell_type": "code",
   "execution_count": null,
   "id": "aca01bfd",
   "metadata": {
    "id": "aca01bfd"
   },
   "outputs": [],
   "source": [
    "x = {}\n",
    "while True:\n",
    "  key = input('Key: ')\n",
    "  if key == 'end':\n",
    "    break\n",
    "  x[key] = input('Value: ')\n",
    "y = input('Search key: ')\n",
    "print(y in x.keys())"
   ]
  },
  {
   "cell_type": "markdown",
   "id": "c0db9249",
   "metadata": {
    "id": "c0db9249"
   },
   "source": [
    "801"
   ]
  },
  {
   "cell_type": "code",
   "execution_count": null,
   "id": "10d02c69",
   "metadata": {
    "id": "10d02c69"
   },
   "outputs": [],
   "source": [
    "word = str(input())\n",
    "for i in range(len(word)):\n",
    "  print(\"Index of '{}': {}\".format(word[i], i), end='')\n",
    "  print()"
   ]
  },
  {
   "cell_type": "markdown",
   "id": "ab1b911b",
   "metadata": {
    "id": "ab1b911b"
   },
   "source": [
    "802"
   ]
  },
  {
   "cell_type": "code",
   "execution_count": null,
   "id": "72a16586",
   "metadata": {
    "id": "72a16586"
   },
   "outputs": [],
   "source": [
    "word = str(input())\n",
    "total = 0\n",
    "for i in range(len(word)):\n",
    "  total += ord(word[i])\n",
    "  print(\"ASCII code for '{}' is {}\".format(word[i], ord(word[i])))\n",
    "print(total)"
   ]
  },
  {
   "cell_type": "markdown",
   "id": "719d443f",
   "metadata": {
    "id": "719d443f"
   },
   "source": [
    "803"
   ]
  },
  {
   "cell_type": "code",
   "execution_count": null,
   "id": "80ba8a83",
   "metadata": {
    "id": "80ba8a83"
   },
   "outputs": [],
   "source": [
    "word = input().split(' ')\n",
    "print(word[-3], word[-2], word[-1])"
   ]
  },
  {
   "cell_type": "markdown",
   "id": "195c513f",
   "metadata": {
    "id": "195c513f"
   },
   "source": [
    "804"
   ]
  },
  {
   "cell_type": "code",
   "execution_count": null,
   "id": "4e801372",
   "metadata": {
    "id": "4e801372"
   },
   "outputs": [],
   "source": [
    "n = input()\n",
    "print(n.upper())\n",
    "print(n.title())"
   ]
  },
  {
   "cell_type": "markdown",
   "id": "f8c3d7bc",
   "metadata": {
    "id": "f8c3d7bc"
   },
   "source": [
    "805"
   ]
  },
  {
   "cell_type": "code",
   "execution_count": null,
   "id": "d32ef34f",
   "metadata": {
    "id": "d32ef34f"
   },
   "outputs": [],
   "source": [
    "n = str(input())\n",
    "print('|{:<10}|'.format(n))\n",
    "print('|{:^10}|'.format(n))\n",
    "print('|{:>10}|'.format(n))"
   ]
  },
  {
   "cell_type": "markdown",
   "id": "e6db6b37",
   "metadata": {
    "id": "e6db6b37"
   },
   "source": [
    "806"
   ]
  },
  {
   "cell_type": "code",
   "execution_count": null,
   "id": "98f9064b",
   "metadata": {
    "id": "98f9064b"
   },
   "outputs": [],
   "source": [
    "word = input()\n",
    "n = input()\n",
    "def compute(word, n):\n",
    "  total = 0\n",
    "  for i in range(len(word)):\n",
    "    if n == word[i]:\n",
    "      total += 1\n",
    "  print('{} occurs {} time(s)'.format(n, total))\n",
    "compute(word, n)"
   ]
  },
  {
   "cell_type": "markdown",
   "id": "1f493f36",
   "metadata": {
    "id": "1f493f36"
   },
   "source": [
    "807"
   ]
  },
  {
   "cell_type": "code",
   "execution_count": null,
   "id": "0c9477de",
   "metadata": {
    "id": "0c9477de"
   },
   "outputs": [],
   "source": [
    "n = input().split(' ')\n",
    "total = 0\n",
    "for i in n:\n",
    "  total += int(i)\n",
    "avg = total / len(n)\n",
    "print('Total = {}'.format(total))\n",
    "print('Average = {:.1f}'.format(avg))"
   ]
  },
  {
   "cell_type": "markdown",
   "id": "64a1faa0",
   "metadata": {
    "id": "64a1faa0"
   },
   "source": [
    "808"
   ]
  },
  {
   "cell_type": "code",
   "execution_count": null,
   "id": "f90d6279",
   "metadata": {
    "id": "f90d6279"
   },
   "outputs": [],
   "source": [
    "word = input().split('-')\n",
    "n = 0\n",
    "for i in word:\n",
    "  if i.isdigit():\n",
    "    n += 1\n",
    "if n == 3:\n",
    "  print('Valid SSN')\n",
    "else:\n",
    "  print('Invalid SSN')"
   ]
  },
  {
   "cell_type": "markdown",
   "id": "cbb1c8a6",
   "metadata": {
    "id": "cbb1c8a6"
   },
   "source": [
    "809"
   ]
  },
  {
   "cell_type": "code",
   "execution_count": null,
   "id": "c043f93f",
   "metadata": {
    "id": "c043f93f"
   },
   "outputs": [],
   "source": [
    "word = input()\n",
    "n = 0\n",
    "for i in word:\n",
    "  if i.isupper():\n",
    "    n += 1\n",
    "if len(word) < 8:\n",
    "  print('Invalid password')\n",
    "elif n < 1:\n",
    "  print('Invalid password')\n",
    "elif not word.isalnum():\n",
    "  print('Invalid password')\n",
    "else:\n",
    "  print('Valid password')"
   ]
  },
  {
   "cell_type": "markdown",
   "id": "bc0fdd63",
   "metadata": {
    "id": "bc0fdd63"
   },
   "source": [
    "810"
   ]
  },
  {
   "cell_type": "code",
   "execution_count": null,
   "id": "50d74350",
   "metadata": {
    "id": "50d74350"
   },
   "outputs": [],
   "source": [
    "n = int(input())\n",
    "for i in range(n):\n",
    "  word = input().split(' ')\n",
    "  word = [eval(j) for j in word]\n",
    "  x = max(word) - min(word)\n",
    "  print('{:.2f}'.format(x))"
   ]
  },
  {
   "cell_type": "markdown",
   "id": "5cd4a88c",
   "metadata": {
    "id": "5cd4a88c"
   },
   "source": [
    "901"
   ]
  },
  {
   "cell_type": "code",
   "execution_count": null,
   "id": "1ceb2172",
   "metadata": {
    "id": "1ceb2172"
   },
   "outputs": [],
   "source": [
    "files = open('write.txt', 'w', encoding='UTF-8')\n",
    "for i in range(5):\n",
    "  files.write(input() + '\\n')\n",
    "files.close()"
   ]
  },
  {
   "cell_type": "markdown",
   "id": "7fecc9a3",
   "metadata": {
    "id": "7fecc9a3"
   },
   "source": [
    "902"
   ]
  },
  {
   "cell_type": "code",
   "execution_count": null,
   "id": "a2023ed8",
   "metadata": {
    "id": "a2023ed8"
   },
   "outputs": [],
   "source": [
    "files = open('read.txt', 'r', encoding='UTF-8')\n",
    "total = 0\n",
    "num = files.read().split(' ')\n",
    "for i in range(len(num)):\n",
    "  total += int(num[i])\n",
    "print(total)\n",
    "files.close()"
   ]
  },
  {
   "cell_type": "markdown",
   "id": "72367545",
   "metadata": {
    "id": "72367545"
   },
   "source": [
    "903"
   ]
  },
  {
   "cell_type": "code",
   "execution_count": null,
   "id": "20b67b9f",
   "metadata": {
    "id": "20b67b9f"
   },
   "outputs": [],
   "source": [
    "files = open('data.txt', 'a+', encoding='UTF-8')\n",
    "for i in range(5):\n",
    "  files.write('\\n' + input())\n",
    "print('Append completed!')\n",
    "print('Content of \"data.txt\":')\n",
    "files.seek(0,0)\n",
    "print(files.read())\n",
    "files.close()"
   ]
  },
  {
   "cell_type": "markdown",
   "id": "8b0d6a1b",
   "metadata": {
    "id": "8b0d6a1b"
   },
   "source": [
    "904"
   ]
  },
  {
   "cell_type": "code",
   "execution_count": null,
   "id": "f4a10b5d",
   "metadata": {
    "id": "f4a10b5d"
   },
   "outputs": [],
   "source": [
    "files = open('read.txt', 'r', encoding='UTF-8')\n",
    "name = []\n",
    "high = []\n",
    "weight = []\n",
    "for i in files:\n",
    "  print(i)\n",
    "  num = i.split(' ')\n",
    "  name.append(num[0])\n",
    "  high.append(eval(num[1]))\n",
    "  weight.append(eval(num[2]))\n",
    "  h_max = high.index(max(high))\n",
    "  w_max = weight.index(max(weight))\n",
    "print('Average height: {:.2f}'.format(sum(high)/len(name)))\n",
    "print('Average weight: {:.2f}'.format(sum(weight)/len(name)))\n",
    "print('The tallest is {} with {:.2f}cm'.format(name[h_max],max(high)))\n",
    "print('The heaviest is {} with {:.2f}kg'.format(name[w_max],max(weight)))\n",
    "files.close()"
   ]
  },
  {
   "cell_type": "markdown",
   "id": "4720b20d",
   "metadata": {
    "id": "4720b20d"
   },
   "source": [
    "905"
   ]
  },
  {
   "cell_type": "code",
   "execution_count": null,
   "id": "f91eaae7",
   "metadata": {
    "id": "f91eaae7"
   },
   "outputs": [],
   "source": [
    "f = input()\n",
    "word = input()\n",
    "files = open(f, 'r', encoding='UTF-8')\n",
    "text = files.read()\n",
    "print('=== Before the deletion')\n",
    "print(text)\n",
    "text = text.replace(word,'')\n",
    "print('=== After the deletion')\n",
    "print(text)\n",
    "files = open(f, 'w', encoding='UTF-8')\n",
    "files.write(text)\n",
    "files.close()"
   ]
  },
  {
   "cell_type": "markdown",
   "id": "bbaee1d9",
   "metadata": {
    "id": "bbaee1d9"
   },
   "source": [
    "906"
   ]
  },
  {
   "cell_type": "code",
   "execution_count": null,
   "id": "9e00d658",
   "metadata": {
    "id": "9e00d658"
   },
   "outputs": [],
   "source": [
    "f = input()\n",
    "word0 = input()\n",
    "word1 = input()\n",
    "files = open(f, 'r', encoding='UTF-8')\n",
    "text = files.read()\n",
    "print('=== Before the replacement')\n",
    "print(text)\n",
    "text = text.replace(word0, word1)\n",
    "print('=== After the replacement')\n",
    "print(text)\n",
    "files.close()"
   ]
  },
  {
   "cell_type": "markdown",
   "id": "6cd8eb7f",
   "metadata": {
    "id": "6cd8eb7f"
   },
   "source": [
    "907"
   ]
  },
  {
   "cell_type": "code",
   "execution_count": null,
   "id": "e0899e2c",
   "metadata": {
    "id": "e0899e2c"
   },
   "outputs": [],
   "source": [
    "f = input()\n",
    "files = open(f, 'r', encoding='UTF-8')\n",
    "line = word = char = 0\n",
    "for i in files:\n",
    "  line += 1\n",
    "  word += len(i.split())\n",
    "  char += sum([len(j) for j in i.split()])\n",
    "print('{} line(s)'.format(line))\n",
    "print('{} word(s)'.format(word))\n",
    "print('{} character(s)'.format(char))\n",
    "files.close()"
   ]
  },
  {
   "cell_type": "markdown",
   "id": "594a81ee",
   "metadata": {
    "id": "594a81ee"
   },
   "source": [
    "908"
   ]
  },
  {
   "cell_type": "code",
   "execution_count": null,
   "id": "39307445",
   "metadata": {
    "id": "39307445"
   },
   "outputs": [],
   "source": [
    "f = input()\n",
    "n = int(input())\n",
    "files = open(f, 'r', encoding='UTF-8')\n",
    "data = sorted(files.read().split())\n",
    "for i in sorted(set(data)):\n",
    "  if data.count(i) == n:\n",
    "    print(i)\n",
    "files.close()"
   ]
  },
  {
   "cell_type": "markdown",
   "id": "12d17f56",
   "metadata": {
    "id": "12d17f56"
   },
   "source": [
    "909"
   ]
  },
  {
   "cell_type": "code",
   "execution_count": null,
   "id": "5aa0c6c5",
   "metadata": {
    "id": "5aa0c6c5"
   },
   "outputs": [],
   "source": [
    "files = open('data.dat', 'w', encoding='UTF-8')\n",
    "for i in range(5):\n",
    "  files.write(input() + '\\n')\n",
    "print('The content of \"data.dat\":')\n",
    "files = open('data.dat', 'r', encoding='UTF-8')\n",
    "for i in files:\n",
    "  print(i)\n",
    "files.close()"
   ]
  },
  {
   "cell_type": "markdown",
   "id": "ce0f3dec",
   "metadata": {
    "id": "ce0f3dec"
   },
   "source": [
    "910"
   ]
  },
  {
   "cell_type": "code",
   "execution_count": null,
   "id": "7e8499e5",
   "metadata": {
    "id": "7e8499e5"
   },
   "outputs": [],
   "source": [
    "f = m = 0\n",
    "files = open('read.dat', 'r', encoding='UTF-8')\n",
    "for i in files:\n",
    "  print(i)\n",
    "  num = i.split()\n",
    "  if num[2] == '0':\n",
    "    f += 1\n",
    "  elif num[2] == '1':\n",
    "    m += 1\n",
    "print('Number of males: {}'.format(m))\n",
    "print('Number of females: {}'.format(f))"
   ]
  }
 ],
 "metadata": {
  "colab": {
   "provenance": []
  },
  "kernelspec": {
   "display_name": "Python 3",
   "language": "python",
   "name": "python3"
  },
  "language_info": {
   "codemirror_mode": {
    "name": "ipython",
    "version": 3
   },
   "file_extension": ".py",
   "mimetype": "text/x-python",
   "name": "python",
   "nbconvert_exporter": "python",
   "pygments_lexer": "ipython3",
   "version": "3.10.16"
  }
 },
 "nbformat": 4,
 "nbformat_minor": 5
}
