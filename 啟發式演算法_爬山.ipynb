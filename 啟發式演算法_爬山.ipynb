{
 "cells": [
  {
   "cell_type": "code",
   "execution_count": null,
   "metadata": {},
   "outputs": [],
   "source": [
    "import numpy as np\n",
    "import random\n",
    "\n",
    "def hc(x):\n",
    "    old = np.zeros(x)\n",
    "    new = np.zeros(x)\n",
    "    z = 0 # 計算次數\n",
    "    while new.sum() != x:\n",
    "        y = random.randint(0, len(new)-1)\n",
    "        new[y] = 1\n",
    "        if new.sum() > old.sum():\n",
    "            old = new\n",
    "            z += 1\n",
    "            print('{} => {}'.format(old, old.sum()))\n",
    "        else:\n",
    "            z += 1\n",
    "            print('{}=> {}'.format(old, old.sum()))\n",
    "    print('共 {} 次'.format(z))\n",
    "\n",
    "# 幾個值\n",
    "hc(10)"
   ]
  }
 ],
 "metadata": {
  "kernelspec": {
   "display_name": "Python 3",
   "language": "python",
   "name": "python3"
  },
  "language_info": {
   "codemirror_mode": {
    "name": "ipython",
    "version": 3
   },
   "file_extension": ".py",
   "mimetype": "text/x-python",
   "name": "python",
   "nbconvert_exporter": "python",
   "pygments_lexer": "ipython3",
   "version": "3.10.16"
  }
 },
 "nbformat": 4,
 "nbformat_minor": 2
}
